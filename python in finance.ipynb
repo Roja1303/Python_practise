{
  "nbformat": 4,
  "nbformat_minor": 0,
  "metadata": {
    "colab": {
      "provenance": [],
      "authorship_tag": "ABX9TyPq25mEGVOD5imWczD5Th0D",
      "include_colab_link": true
    },
    "kernelspec": {
      "name": "python3",
      "display_name": "Python 3"
    },
    "language_info": {
      "name": "python"
    }
  },
  "cells": [
    {
      "cell_type": "markdown",
      "metadata": {
        "id": "view-in-github",
        "colab_type": "text"
      },
      "source": [
        "<a href=\"https://colab.research.google.com/github/Roja1303/Python_practise/blob/main/python%20in%20finance.ipynb\" target=\"_parent\"><img src=\"https://colab.research.google.com/assets/colab-badge.svg\" alt=\"Open In Colab\"/></a>"
      ]
    },
    {
      "cell_type": "markdown",
      "source": [],
      "metadata": {
        "id": "ng0v-GrBTyjf"
      }
    },
    {
      "cell_type": "markdown",
      "source": [
        "1.Write a Python print statement that shows a message saying, \"Starting the trading session.\"\n"
      ],
      "metadata": {
        "id": "E_moYOC2T2ma"
      }
    },
    {
      "cell_type": "code",
      "source": [
        "print(\"Starting the trading session.\")"
      ],
      "metadata": {
        "colab": {
          "base_uri": "https://localhost:8080/"
        },
        "collapsed": true,
        "id": "W5Kn3WbaVskE",
        "outputId": "07d4706e-0523-4c29-ab66-5ed74299949c"
      },
      "execution_count": 1,
      "outputs": [
        {
          "output_type": "stream",
          "name": "stdout",
          "text": [
            "Starting the trading session.\n"
          ]
        }
      ]
    },
    {
      "cell_type": "markdown",
      "source": [
        "2.Create a variable stock_price that stores the current price of a stock as a floating-point number."
      ],
      "metadata": {
        "id": "PwK6jFLXT_sD"
      }
    },
    {
      "cell_type": "code",
      "source": [
        "stock_price = 100.50"
      ],
      "metadata": {
        "id": "cHFr_S7vV3XM"
      },
      "execution_count": 2,
      "outputs": []
    },
    {
      "cell_type": "markdown",
      "source": [
        "3.Assign the symbol AAPL to a variable named stock_symbol"
      ],
      "metadata": {
        "id": "Z4zMND4eULMG"
      }
    },
    {
      "cell_type": "code",
      "source": [
        "stock_symbol = \"AAPL\""
      ],
      "metadata": {
        "id": "aha0dgCmV7oU"
      },
      "execution_count": 3,
      "outputs": []
    },
    {
      "cell_type": "markdown",
      "source": [
        ".Add a comment explaining that the following code will initialize a trading balance variable with 10000."
      ],
      "metadata": {
        "id": "Ghhu9F0CUTMN"
      }
    },
    {
      "cell_type": "code",
      "source": [
        "# the following code will initialize a trading balance variable with 10000"
      ],
      "metadata": {
        "id": "GdS9sJLEV_xM"
      },
      "execution_count": 4,
      "outputs": []
    },
    {
      "cell_type": "markdown",
      "source": [
        "5.Identify and fix the syntax error in the following code snippet:\n",
        "   total_return = final_price - initial_price\n",
        "   print(total_return)"
      ],
      "metadata": {
        "id": "0czDQn_GUaOp"
      }
    },
    {
      "cell_type": "code",
      "source": [
        "final_price = 34.0\n",
        "initial_price = 20.0\n",
        "\n",
        "total_return = final_price - initial_price\n",
        "print(total_return)"
      ],
      "metadata": {
        "colab": {
          "base_uri": "https://localhost:8080/"
        },
        "id": "zXmvyOAqWIYj",
        "outputId": "28f3d003-0bb8-40dc-fcb9-987e57539a2b"
      },
      "execution_count": 7,
      "outputs": [
        {
          "output_type": "stream",
          "name": "stdout",
          "text": [
            "14.0\n"
          ]
        }
      ]
    },
    {
      "cell_type": "markdown",
      "source": [
        "6.Write a program that asks the user for the quantity of a stock to buy and prints \"Buying X shares,\" where X is the input quantity."
      ],
      "metadata": {
        "id": "52P4dpiOUhSz"
      }
    },
    {
      "cell_type": "code",
      "source": [
        "buy_share = int(input(\"Enter the quantity of a stock to buy: \"))\n",
        "print(\"Buying\", buy_share, \"shares\")"
      ],
      "metadata": {
        "colab": {
          "base_uri": "https://localhost:8080/"
        },
        "id": "awJxOIKJWYG1",
        "outputId": "856750be-8ab1-4abb-ccaf-ce0f94be82ca"
      },
      "execution_count": 8,
      "outputs": [
        {
          "output_type": "stream",
          "name": "stdout",
          "text": [
            "Enter the quantity of a stock to buy: 3\n",
            "Buying 3 shares\n"
          ]
        }
      ]
    },
    {
      "cell_type": "markdown",
      "source": [
        "7.Convert a string variable price_str holding the value \"89.50\" into a floating-point number.\n"
      ],
      "metadata": {
        "id": "CsPXf2qVUoU1"
      }
    },
    {
      "cell_type": "code",
      "source": [
        "price_str = \"89.50\"\n",
        "price_float = float(price_str)\n",
        "print(price_float)"
      ],
      "metadata": {
        "colab": {
          "base_uri": "https://localhost:8080/"
        },
        "id": "DWADMVCcWnTx",
        "outputId": "fcf8ecbb-6f88-4fdf-e32b-361e6b7e78ed"
      },
      "execution_count": 9,
      "outputs": [
        {
          "output_type": "stream",
          "name": "stdout",
          "text": [
            "89.5\n"
          ]
        }
      ]
    },
    {
      "cell_type": "markdown",
      "source": [
        "8.Define a list literal containing the stock symbols \"AAPL\", \"TSLA\", and \"GOOGL\".\n"
      ],
      "metadata": {
        "id": "oEZ5A_iaUuVt"
      }
    },
    {
      "cell_type": "code",
      "source": [
        "stock_symbols = [\"AAPL\", \"TSLA\", \"GOOGL\"]"
      ],
      "metadata": {
        "id": "tLz7qs1bWswZ"
      },
      "execution_count": 10,
      "outputs": []
    },
    {
      "cell_type": "markdown",
      "source": [
        "9.Write a print statement that outputs \"Stock XYZ is trading at $PRICE\", where XYZ is a variable symbol, and PRICE is a floating-point variable price.\n"
      ],
      "metadata": {
        "id": "HurUoxmxU2lj"
      }
    },
    {
      "cell_type": "code",
      "source": [
        "stock_symbol = \"XYZ\"\n",
        "price = 100.50\n",
        "print(f\"Stock {stock_symbol} is trading at ${price}\")"
      ],
      "metadata": {
        "colab": {
          "base_uri": "https://localhost:8080/"
        },
        "id": "dh6AogJlWx-w",
        "outputId": "0fa5b38e-59ce-4656-ced2-281a2cfff945"
      },
      "execution_count": 11,
      "outputs": [
        {
          "output_type": "stream",
          "name": "stdout",
          "text": [
            "Stock XYZ is trading at $100.5\n"
          ]
        }
      ]
    },
    {
      "cell_type": "markdown",
      "source": [
        "10.Write a Python Program print_trade_summary(symbol, quantity, price) that accepts a stock symbol, the number of shares, and the price per share. It should print out a formatted summary of the total trade cost.\n"
      ],
      "metadata": {
        "id": "MVuNJpq2U7vn"
      }
    },
    {
      "cell_type": "code",
      "source": [
        "symbol = \"AAPL\"\n",
        "quantity = 10\n",
        "price = 150.0\n",
        "\n",
        "total_cost = quantity * price\n",
        "\n",
        "print(f\"Symbol: {symbol}\")\n",
        "print(f\"Quantity: {quantity}\")\n",
        "print(f\"Price: ${price:.2f}\")\n",
        "print(f\"Total Cost: ${total_cost:.2f}\")\n"
      ],
      "metadata": {
        "colab": {
          "base_uri": "https://localhost:8080/"
        },
        "id": "bEY1Z3OJW-9q",
        "outputId": "bd1dedd0-94a4-420a-814e-8ac380ed6df3"
      },
      "execution_count": 12,
      "outputs": [
        {
          "output_type": "stream",
          "name": "stdout",
          "text": [
            "Symbol: AAPL\n",
            "Quantity: 10\n",
            "Price: $150.00\n",
            "Total Cost: $1500.00\n"
          ]
        }
      ]
    },
    {
      "cell_type": "markdown",
      "source": [
        "11.** Calculate the Daily Return on Investment (ROI)\n",
        "\n",
        "**Objective:** Prompt the user to enter the purchase price and the selling price of a stock, and calculate the ROI.\n"
      ],
      "metadata": {
        "id": "gVxzofmDVAI8"
      }
    },
    {
      "cell_type": "code",
      "source": [
        "purchase_price = float(input(\"Enter the purchase price of the stock: \"))\n",
        "selling_price = float(input(\"Enter the selling price of the stock: \"))\n",
        "\n",
        "roi = (selling_price - purchase_price) / purchase_price*100\n",
        "\n",
        "print(roi)"
      ],
      "metadata": {
        "colab": {
          "base_uri": "https://localhost:8080/"
        },
        "id": "RNwAWWNyXHw8",
        "outputId": "106c50b7-a485-41cb-dd6f-37f2a7c3935a"
      },
      "execution_count": 15,
      "outputs": [
        {
          "output_type": "stream",
          "name": "stdout",
          "text": [
            "Enter the purchase price of the stock: 234\n",
            "Enter the selling price of the stock: 345\n",
            "47.43589743589743\n"
          ]
        }
      ]
    },
    {
      "cell_type": "markdown",
      "source": [
        "**12.** Determine the Average Price from User Inputs\n",
        "\n",
        "**Objective:** Ask the user to input three different prices of a stock throughout the day and compute the average.\n"
      ],
      "metadata": {
        "id": "x918-ICEVEYy"
      }
    },
    {
      "cell_type": "code",
      "source": [
        "price1 = float(input(\"Enter the first price of the stock: \"))\n",
        "price2 = float(input(\"Enter the second price of the stock: \"))\n",
        "price3 = float(input(\"Enter the third price of the stock: \"))\n",
        "\n",
        "average_price = (price1 + price2 + price3) / 3\n",
        "\n",
        "print(average_price)"
      ],
      "metadata": {
        "colab": {
          "base_uri": "https://localhost:8080/"
        },
        "id": "rdUK99FBXe4Q",
        "outputId": "8b79eda3-77fd-4716-dd06-8f0c813bce24"
      },
      "execution_count": 16,
      "outputs": [
        {
          "output_type": "stream",
          "name": "stdout",
          "text": [
            "Enter the first price of the stock: 2\n",
            "Enter the second price of the stock: 3\n",
            "Enter the third price of the stock: 4\n",
            "3.0\n"
          ]
        }
      ]
    },
    {
      "cell_type": "markdown",
      "source": [
        "**13.** Compare Two Stock Prices\n",
        "\n",
        "**Objective:** Ask the user for the prices of two stocks and print which one is higher.\n"
      ],
      "metadata": {
        "id": "b4gCX7i2VJfj"
      }
    },
    {
      "cell_type": "code",
      "source": [
        "stock_price1 = float(input(\"Enter the price of the first stock: \"))\n",
        "stock_price2 = float(input(\"Enter the price of the second stock: \"))\n",
        "\n",
        "if stock_price1 > stock_price2:\n",
        "    print(\"The first stock is higher.\")\n",
        "elif stock_price1 < stock_price2:\n",
        "    print(\"The second stock is higher.\")\n",
        "else:\n",
        "    print(\"The stocks have the same price.\")"
      ],
      "metadata": {
        "colab": {
          "base_uri": "https://localhost:8080/"
        },
        "id": "6Z07W8VFXoHh",
        "outputId": "1364393f-9f23-49b6-81b3-d773d93ec13a"
      },
      "execution_count": 17,
      "outputs": [
        {
          "output_type": "stream",
          "name": "stdout",
          "text": [
            "Enter the price of the first stock: 2\n",
            "Enter the price of the second stock: 3\n",
            "The second stock is higher.\n"
          ]
        }
      ]
    },
    {
      "cell_type": "markdown",
      "source": [
        "**14.** Break-Even Price Calculator\n",
        "\n",
        "**Objective:** Calculate the break-even price after buying a stock and spending money on fees.\n",
        "\n"
      ],
      "metadata": {
        "id": "r-s8BJKbVNLw"
      }
    },
    {
      "cell_type": "code",
      "source": [
        "purchase_price = float(input(\"Enter the purchase price of the stock: \"))\n",
        "# fixed_costs = float(input(\"Enter the fixed costs (fees) incurred: \"))\n",
        "shares = int(input(\"Enter the number of shares: \"))\n",
        "fees = float(input(\"Enter the fees incurred: \"))\n",
        "\n",
        "fixed_costs = shares * fees\n",
        "\n",
        "break_even_price = (purchase_price + fixed_costs) / 2\n",
        "\n",
        "print(f\"The break-even price is: ${break_even_price:.2f}\")"
      ],
      "metadata": {
        "colab": {
          "base_uri": "https://localhost:8080/"
        },
        "id": "e4GZx4kLXySW",
        "outputId": "71824e3f-d46a-43e5-ea3e-a4a1a97809be"
      },
      "execution_count": 19,
      "outputs": [
        {
          "output_type": "stream",
          "name": "stdout",
          "text": [
            "Enter the purchase price of the stock: 678\n",
            "Enter the number of shares: 4\n",
            "Enter the fees incurred: 90\n",
            "The break-even price is: $519.00\n"
          ]
        }
      ]
    },
    {
      "cell_type": "markdown",
      "source": [
        "**15.** Display Stock Price Change\n",
        "\n",
        "**Objective:** Ask the user to enter yesterday's and today's stock prices, then print the change in price.\n",
        "\n"
      ],
      "metadata": {
        "id": "DJqBQrCFVRQA"
      }
    },
    {
      "cell_type": "code",
      "source": [
        "yesterday_stock_price = float(input(\"Enter the stock price for yesterday: \"))\n",
        "today_stock_price = float(input(\"Enter the stock price for today: \"))\n",
        "\n",
        "price_change = today_stock_price - yesterday_stock_price\n",
        "\n",
        "print(f\"The price change is: ${price_change:.2f}\")"
      ],
      "metadata": {
        "colab": {
          "base_uri": "https://localhost:8080/"
        },
        "id": "mZJS5FTMYlaz",
        "outputId": "5350d49c-2d07-476c-8690-0d9db7cfe0cf"
      },
      "execution_count": 20,
      "outputs": [
        {
          "output_type": "stream",
          "name": "stdout",
          "text": [
            "Enter the stock price for yesterday: 45\n",
            "Enter the stock price for today: 6\n",
            "The price change is: $-39.00\n"
          ]
        }
      ]
    },
    {
      "cell_type": "markdown",
      "source": [
        "**16.** Calculate Required Margin\n",
        "\n",
        "**Objective:** Calculate the required margin for a trade based on user inputs for trade size and margin rate.\n",
        "\n"
      ],
      "metadata": {
        "id": "P2P7couRVWGl"
      }
    },
    {
      "cell_type": "code",
      "source": [
        "no_shares = int(input(\"Enter the number of shares: \"))\n",
        "purchase_price = float(input(\"Enter the purchase price of the stock: \"))\n",
        "margin_rate = float(input(\"Enter the margin rate (as a percentage): \"))\n",
        "\n",
        "total_cost = no_shares * purchase_price\n",
        "\n",
        "required_margin = (margin_rate / 100) * total_cost\n",
        "\n",
        "print(f\"The required margin is: ${required_margin:.2f}\")\n"
      ],
      "metadata": {
        "colab": {
          "base_uri": "https://localhost:8080/"
        },
        "id": "NLmryRzqY0Gg",
        "outputId": "f67dc397-e329-4ebf-91ef-b7dd7df039e2"
      },
      "execution_count": 21,
      "outputs": [
        {
          "output_type": "stream",
          "name": "stdout",
          "text": [
            "Enter the number of shares: 5\n",
            "Enter the purchase price of the stock: 3456\n",
            "Enter the margin rate (as a percentage): 45\n",
            "The required margin is: $7776.00\n"
          ]
        }
      ]
    },
    {
      "cell_type": "markdown",
      "source": [
        "**17.** Convert Currency from User Input\n",
        "\n",
        "**Objective:** Ask the user for an amount in USD and a conversion rate, then convert it to another currency.\n",
        "\n"
      ],
      "metadata": {
        "id": "eJza3RtjVZSB"
      }
    },
    {
      "cell_type": "code",
      "source": [
        "amount = float(input(\"Enter the amount in USD: \"))\n",
        "conversion_rate = float(input(\"Enter the conversion rate: \"))\n",
        "\n",
        "converted_amount = amount * conversion_rate\n",
        "\n",
        "print(f\"The converted amount is: ${converted_amount:.2f}\")\n"
      ],
      "metadata": {
        "colab": {
          "base_uri": "https://localhost:8080/"
        },
        "id": "V5VYUEtHZdY9",
        "outputId": "a042485c-44f9-477c-9f5b-b461315f22e6"
      },
      "execution_count": 22,
      "outputs": [
        {
          "output_type": "stream",
          "name": "stdout",
          "text": [
            "Enter the amount in USD: 56\n",
            "Enter the conversion rate: 6\n",
            "The converted amount is: $336.00\n"
          ]
        }
      ]
    },
    {
      "cell_type": "markdown",
      "source": [
        "**18.** Calculate the Weighted Average Price\n",
        "\n",
        "**Objective:** Calculate the weighted average price based on user inputs for different prices and their respective weights.\n"
      ],
      "metadata": {
        "id": "86ifuWljVdmv"
      }
    },
    {
      "cell_type": "code",
      "source": [
        "n = int(input(\"Enter the number of prices: \"))\n",
        "\n",
        "total_price = 0\n",
        "total_weight = 0\n",
        "\n",
        "for i in range(n):\n",
        "    price = float(input(f\"Enter the price {i+1}: \"))\n",
        "    weight = float(input(f\"Enter the weight {i+1}: \"))\n",
        "    total_price += price * weight\n",
        "    total_weight += weight\n",
        "\n",
        "weighted_average_price = total_price / total_weight\n",
        "\n",
        "print(f\"The weighted average price is: ${weighted_average_price:.2f}\")"
      ],
      "metadata": {
        "colab": {
          "base_uri": "https://localhost:8080/"
        },
        "id": "f9MSGRAOZqLq",
        "outputId": "8b769600-8f24-482f-d4f6-e2061fc10d9f"
      },
      "execution_count": 23,
      "outputs": [
        {
          "output_type": "stream",
          "name": "stdout",
          "text": [
            "Enter the number of prices: 3\n",
            "Enter the price 1: 234\n",
            "Enter the weight 1: 23\n",
            "Enter the price 2: 234\n",
            "Enter the weight 2: 55\n",
            "Enter the price 3: 678\n",
            "Enter the weight 3: 76\n",
            "The weighted average price is: $453.12\n"
          ]
        }
      ]
    },
    {
      "cell_type": "markdown",
      "source": [
        "**19.** User Input to Adjust Stock Quantity\n",
        "\n",
        "**Objective:** Prompt the user for the current number of stocks, how many to buy, and how many to sell, then calculate the new total.\n",
        "\n"
      ],
      "metadata": {
        "id": "bcrqYe4EVhdr"
      }
    },
    {
      "cell_type": "code",
      "source": [
        "current_stocks = int(input(\"Enter the current number of stocks: \"))\n",
        "buy_stocks = int(input(\"Enter the number of stocks to buy: \"))\n",
        "sell_stocks = int(input(\"Enter the number of stocks to sell: \"))\n",
        "\n",
        "new_stocks = current_stocks + buy_stocks - sell_stocks\n",
        "\n",
        "print(new_stocks)"
      ],
      "metadata": {
        "colab": {
          "base_uri": "https://localhost:8080/"
        },
        "id": "0dKC4JvbaBcX",
        "outputId": "279575b1-7ae2-45b4-c3fd-0eda17256a5e"
      },
      "execution_count": 25,
      "outputs": [
        {
          "output_type": "stream",
          "name": "stdout",
          "text": [
            "Enter the current number of stocks: 78\n",
            "Enter the number of stocks to buy: 4\n",
            "Enter the number of stocks to sell: 67\n",
            "15\n"
          ]
        }
      ]
    },
    {
      "cell_type": "markdown",
      "source": [
        "### Python Mini Project 1 :\n",
        "\n",
        "Scenario: Stock Data Entry and Analysis Tool\n",
        "\n",
        "**Objective:**\n",
        "Create a Python script that  will involve taking manual input for stock prices over a week and will calculate the average price. It should also demonstrate variable declaration, user input, and basic arithmetic using Python types.\n",
        "\n"
      ],
      "metadata": {
        "id": "0yU4hi5GVlyM"
      }
    },
    {
      "cell_type": "code",
      "source": [
        "total_price = 0\n",
        "\n",
        "days_of_weeks = [\"monday\",\"tuesday\",\"wednesday\",\"thursday\",\"friday\",\"saturday\",\"sunday\"]\n",
        "\n",
        "for i in days_of_weeks:\n",
        "  price = float(input(\"enter the stock price :\"))\n",
        "  total_price += price\n",
        "  print(f\"total price is {total_price}\")\n",
        "\n",
        "average_price = total_price / len(days_of_weeks)\n",
        "print(f\"average price is {average_price}\")"
      ],
      "metadata": {
        "colab": {
          "base_uri": "https://localhost:8080/"
        },
        "id": "LUZMho8eaTwQ",
        "outputId": "9ab3ec56-75d5-4561-e148-9610279f2d58"
      },
      "execution_count": 26,
      "outputs": [
        {
          "output_type": "stream",
          "name": "stdout",
          "text": [
            "enter the stock price :1\n",
            "total price is 1.0\n",
            "enter the stock price :2\n",
            "total price is 3.0\n",
            "enter the stock price :3\n",
            "total price is 6.0\n",
            "enter the stock price :4\n",
            "total price is 10.0\n",
            "enter the stock price :5\n",
            "total price is 15.0\n",
            "enter the stock price :6\n",
            "total price is 21.0\n",
            "enter the stock price :7\n",
            "total price is 28.0\n",
            "average price is 4.0\n"
          ]
        }
      ]
    },
    {
      "cell_type": "code",
      "source": [
        "\n"
      ],
      "metadata": {
        "id": "6DKwCtUXbaKG"
      },
      "execution_count": null,
      "outputs": []
    }
  ]
}